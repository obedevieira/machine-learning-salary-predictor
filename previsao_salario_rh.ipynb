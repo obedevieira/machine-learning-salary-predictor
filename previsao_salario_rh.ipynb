{
  "nbformat": 4,
  "nbformat_minor": 0,
  "metadata": {
    "colab": {
      "provenance": []
    },
    "kernelspec": {
      "name": "python3",
      "display_name": "Python 3"
    },
    "language_info": {
      "name": "python"
    }
  },
  "cells": [
    {
      "cell_type": "markdown",
      "source": [],
      "metadata": {
        "id": "5gDLNPGbJRI7"
      }
    },
    {
      "cell_type": "markdown",
      "metadata": {
        "id": "05ca1a54"
      },
      "source": [
        "# **Projeto de Previsão de Salário com Machine Learning**\n",
        "\n",
        "**Autor:** Obede Vieira\n",
        "\n",
        "**Descrição:**\n",
        "Este projeto demonstra a construção de um modelo de machine learning para prever o salário de um profissional com base em seus anos de experiência. O notebook abrange todo o ciclo de vida de um projeto de ciência de dados, desde a análise exploratória dos dados até a implantação de um modelo preditivo."
      ]
    },
    {
      "cell_type": "code",
      "execution_count": null,
      "metadata": {
        "id": "pHKL-ASa4QwD"
      },
      "outputs": [],
      "source": [
        "# Libs Necessárias\n",
        "\n",
        "# Libs para Modelagem e Matrizez\n",
        "import numpy as np\n",
        "import pandas as pd\n",
        "\n",
        "# Libs para anaálises gráficas\n",
        "import matplotlib.pyplot as plt\n",
        "import seaborn as sns\n",
        "\n",
        "# Lib para ignorar avisos\n",
        "import warnings\n",
        "\n",
        "# Desabilitando avisos\n",
        "warnings.filterwarnings('ignore')"
      ]
    },
    {
      "cell_type": "code",
      "source": [
        "# Lendo os dados\n",
        "Base_Dados = pd.read_csv('Salary_Data.csv')\n",
        "\n",
        "# Verificando\n",
        "Base_Dados.head()"
      ],
      "metadata": {
        "id": "uV3SLBeY4UOm"
      },
      "execution_count": null,
      "outputs": []
    },
    {
      "cell_type": "code",
      "source": [
        "# Renomenado as colunas\n",
        "Base_Dados.rename( columns={\n",
        "    'YearsExperience' : 'Xp',\n",
        "    'Salary' : 'Renda'\n",
        "}, inplace=True )"
      ],
      "metadata": {
        "id": "Egu2iC-B4b-q"
      },
      "execution_count": null,
      "outputs": []
    },
    {
      "cell_type": "code",
      "source": [
        "# dimensao\n",
        "Base_Dados.shape"
      ],
      "metadata": {
        "id": "utr3Ppu86F9t"
      },
      "execution_count": null,
      "outputs": []
    },
    {
      "cell_type": "code",
      "source": [
        "# Campos nulos\n",
        "Base_Dados.isnull().sum()"
      ],
      "metadata": {
        "id": "XpmRqspx6JrN"
      },
      "execution_count": null,
      "outputs": []
    },
    {
      "cell_type": "code",
      "source": [
        "# Grafico Nulos\n",
        "sns.heatmap( Base_Dados.isnull(), cbar=False );"
      ],
      "metadata": {
        "id": "U7GZxU886Nwr"
      },
      "execution_count": null,
      "outputs": []
    },
    {
      "cell_type": "code",
      "source": [
        "Base_Dados.describe()"
      ],
      "metadata": {
        "id": "_Hay5ECM6UBB"
      },
      "execution_count": null,
      "outputs": []
    },
    {
      "cell_type": "code",
      "source": [
        "plt.figure( figsize=(10, 6) )\n",
        "plt.title('Análise da Renda')\n",
        "sns.kdeplot( Base_Dados['Renda'], color='green' );"
      ],
      "metadata": {
        "id": "a_JUcTRz67W7"
      },
      "execution_count": null,
      "outputs": []
    },
    {
      "cell_type": "code",
      "source": [
        "plt.figure( figsize=(10, 6) )\n",
        "plt.title('Análise da Xp')\n",
        "sns.kdeplot( Base_Dados['Xp'], color='blue' );"
      ],
      "metadata": {
        "id": "yC2NLRtm6_hQ"
      },
      "execution_count": null,
      "outputs": []
    },
    {
      "cell_type": "code",
      "source": [
        "# Distribuição\n",
        "plt.figure( figsize=(10, 5) )\n",
        "sns.boxplot( Base_Dados['Renda'] );"
      ],
      "metadata": {
        "id": "Kg4xOdw-7x4f"
      },
      "execution_count": null,
      "outputs": []
    },
    {
      "cell_type": "code",
      "source": [
        "# Distribuição\n",
        "plt.figure( figsize=(10, 5) )\n",
        "sns.boxplot( Base_Dados['Xp'] );"
      ],
      "metadata": {
        "id": "_b0z7ujH8EK3"
      },
      "execution_count": null,
      "outputs": []
    },
    {
      "cell_type": "code",
      "source": [
        "# Distribuiçã\n",
        "plt.figure( figsize=(10, 5) )\n",
        "sns.scatterplot( data=Base_Dados, x='Renda', y='Xp');"
      ],
      "metadata": {
        "id": "5AcXx3rD8Lg3"
      },
      "execution_count": null,
      "outputs": []
    },
    {
      "cell_type": "code",
      "source": [
        "plt.figure( figsize=(10, 5) )\n",
        "sns.regplot( data=Base_Dados, x='Renda', y='Xp');"
      ],
      "metadata": {
        "id": "k8dpaDsG8Vwk"
      },
      "execution_count": null,
      "outputs": []
    },
    {
      "cell_type": "code",
      "source": [
        "# Correlação\n",
        "Correlacao = Base_Dados.corr('pearson')\n",
        "plt.figure( figsize=(10, 5) )\n",
        "sns.heatmap( Correlacao, annot=True, cbar=True );"
      ],
      "metadata": {
        "id": "0a6pVXp182I1"
      },
      "execution_count": null,
      "outputs": []
    },
    {
      "cell_type": "code",
      "source": [
        "# Correlação\n",
        "Correlacao = Base_Dados.corr('spearman')\n",
        "plt.figure( figsize=(10, 5) )\n",
        "sns.heatmap( Correlacao, annot=True, cbar=True );"
      ],
      "metadata": {
        "id": "kPKUzZpl9BCS"
      },
      "execution_count": null,
      "outputs": []
    },
    {
      "cell_type": "code",
      "source": [],
      "metadata": {
        "id": "Bk3PGGt19UPg"
      },
      "execution_count": null,
      "outputs": []
    },
    {
      "cell_type": "code",
      "metadata": {
        "id": "J9P2W9y_9l_d"
      },
      "source": [
        "# Importa a função train_test_split da biblioteca scikit-learn para dividir os dados\n",
        "from sklearn.model_selection import train_test_split\n",
        "\n",
        "# Seleciona a coluna 'Xp' como a variável independente (característica)\n",
        "X = Base_Dados[['Xp']]\n",
        "# Seleciona a coluna 'Renda' como a variável dependente (alvo)\n",
        "y = Base_Dados['Renda']\n",
        "\n",
        "# Divide os dados em conjuntos de treino e teste\n",
        "# X_train: características de treino\n",
        "# X_test: características de teste\n",
        "# y_train: alvo de treino\n",
        "# y_test: alvo de teste\n",
        "# test_size=0.2: 20% dos dados serão usados para teste\n",
        "# random_state=42: garante que a divisão seja a mesma toda vez que o código for executado\n",
        "X_train, X_test, y_train, y_test = train_test_split(X, y, test_size=0.2, random_state=42)\n",
        "\n",
        "# Imprime o tamanho do conjunto de treino\n",
        "print(f'Tamanho do conjunto de treino: {len(X_train)}')\n",
        "# Imprime o tamanho do conjunto de teste\n",
        "print(f'Tamanho do conjunto de teste: {len(X_test)}')"
      ],
      "execution_count": null,
      "outputs": []
    },
    {
      "cell_type": "code",
      "metadata": {
        "id": "lG8G5G5F9l_g"
      },
      "source": [
        "# Importa a classe Pipeline para criar um fluxo de trabalho de machine learning\n",
        "from sklearn.pipeline import Pipeline\n",
        "# Importa StandardScaler para padronizar os dados (colocá-los na mesma escala)\n",
        "from sklearn.preprocessing import StandardScaler\n",
        "# Importa o modelo de Regressão Linear\n",
        "from sklearn.linear_model import LinearRegression\n",
        "\n",
        "# Cria um pipeline com duas etapas:\n",
        "# 1. 'scaler': Padroniza os dados usando StandardScaler\n",
        "# 2. 'regressor': Aplica o modelo de Regressão Linear\n",
        "pipeline_regressao_linear = Pipeline([\n",
        "    ('scaler', StandardScaler()),\n",
        "    ('regressor', LinearRegression())\n",
        "])\n",
        "\n",
        "# Treina o pipeline com os dados de treino\n",
        "# O pipeline aplica a padronização e o treinamento do modelo em sequência\n",
        "pipeline_regressao_linear.fit(X_train, y_train)"
      ],
      "execution_count": null,
      "outputs": []
    },
    {
      "cell_type": "markdown",
      "metadata": {
        "id": "eefedec7"
      },
      "source": [
        "### **Treinamento e Comparação de Modelos**\n",
        "Agora, vamos treinar e comparar o desempenho de diferentes modelos de regressão. Além da Regressão Linear, vamos usar os modelos Ridge e Lasso, que são variações da Regressão Linear com regularização."
      ]
    },
    {
      "cell_type": "code",
      "metadata": {
        "id": "1c873c64"
      },
      "source": [
        "from sklearn.linear_model import Ridge, Lasso\n",
        "from sklearn.metrics import mean_squared_error, r2_score\n",
        "\n",
        "# -- Modelo Ridge --\n",
        "# Criando o pipeline com o modelo Ridge\n",
        "pipeline_ridge = Pipeline([\n",
        "    ('scaler', StandardScaler()),\n",
        "    ('regressor', Ridge(alpha=1.0))\n",
        "])\n",
        "# Treinando o pipeline com o modelo Ridge\n",
        "pipeline_ridge.fit(X_train, y_train)\n",
        "\n",
        "# -- Modelo Lasso --\n",
        "# Criando o pipeline com o modelo Lasso\n",
        "pipeline_lasso = Pipeline([\n",
        "    ('scaler', StandardScaler()),\n",
        "    ('regressor', Lasso(alpha=1.0))\n",
        "])\n",
        "# Treinando o pipeline com o modelo Lasso\n",
        "pipeline_lasso.fit(X_train, y_train)\n",
        "\n",
        "# -- Avaliação dos Modelos --\n",
        "# Fazendo previsões com cada modelo\n",
        "y_pred_linear = pipeline_regressao_linear.predict(X_test)\n",
        "y_pred_ridge = pipeline_ridge.predict(X_test)\n",
        "y_pred_lasso = pipeline_lasso.predict(X_test)\n",
        "\n",
        "# Calculando as métricas de avaliação para cada modelo\n",
        "mse_linear = mean_squared_error(y_test, y_pred_linear)\n",
        "r2_linear = r2_score(y_test, y_pred_linear)\n",
        "\n",
        "mse_ridge = mean_squared_error(y_test, y_pred_ridge)\n",
        "r2_ridge = r2_score(y_test, y_pred_ridge)\n",
        "\n",
        "mse_lasso = mean_squared_error(y_test, y_pred_lasso)\n",
        "r2_lasso = r2_score(y_test, y_pred_lasso)\n",
        "\n",
        "# Imprimindo os resultados\n",
        "print(\"Resultados da Regressão Linear:\")\n",
        "print(f\"MSE: {mse_linear:.2f}\")\n",
        "print(f\"R²: {r2_linear:.2f}\\n\")\n",
        "\n",
        "print(\"Resultados da Regressão Ridge:\")\n",
        "print(f\"MSE: {mse_ridge:.2f}\")\n",
        "print(f\"R²: {r2_ridge:.2f}\\n\")\n",
        "\n",
        "print(\"Resultados da Regressão Lasso:\")\n",
        "print(f\"MSE: {mse_lasso:.2f}\")\n",
        "print(f\"R²: {r2_lasso:.2f}\")"
      ],
      "execution_count": null,
      "outputs": []
    },
    {
      "cell_type": "markdown",
      "metadata": {
        "id": "cc92653e"
      },
      "source": [
        "### **Ajuste de Hiperparâmetros**\n",
        "Agora, vamos usar o `GridSearchCV` para encontrar o melhor valor do hiperparâmetro `alpha` para os modelos Ridge e Lasso. O `alpha` controla a força da regularização."
      ]
    },
    {
      "cell_type": "code",
      "metadata": {
        "id": "4f0e9969"
      },
      "source": [
        "from sklearn.model_selection import GridSearchCV\n",
        "\n",
        "# -- Ajuste de Hiperparâmetros para o Modelo Ridge --\n",
        "# Definindo os parâmetros para o GridSearchCV\n",
        "parametros_ridge = {'regressor__alpha': [0.1, 1.0, 10.0, 100.0]}\n",
        "\n",
        "# Criando o objeto GridSearchCV\n",
        "grid_search_ridge = GridSearchCV(pipeline_ridge, parametros_ridge, cv=5, scoring='r2')\n",
        "\n",
        "# Treinando o GridSearchCV\n",
        "grid_search_ridge.fit(X_train, y_train)\n",
        "\n",
        "# -- Ajuste de Hiperparâmetros para o Modelo Lasso --\n",
        "# Definindo os parâmetros para o GridSearchCV\n",
        "parametros_lasso = {'regressor__alpha': [0.1, 1.0, 10.0, 100.0]}\n",
        "\n",
        "# Criando o objeto GridSearchCV\n",
        "grid_search_lasso = GridSearchCV(pipeline_lasso, parametros_lasso, cv=5, scoring='r2')\n",
        "\n",
        "# Treinando o GridSearchCV\n",
        "grid_search_lasso.fit(X_train, y_train)\n",
        "\n",
        "# Imprimindo os melhores parâmetros encontrados\n",
        "print(\"Melhor alpha para o modelo Ridge:\", grid_search_ridge.best_params_['regressor__alpha'])\n",
        "print(\"Melhor R² para o modelo Ridge:\", grid_search_ridge.best_score_)\n",
        "\n",
        "print(\"\\nMelhor alpha para o modelo Lasso:\", grid_search_lasso.best_params_['regressor__alpha'])\n",
        "print(\"Melhor R² para o modelo Lasso:\", grid_search_lasso.best_score_)"
      ],
      "execution_count": null,
      "outputs": []
    },
    {
      "cell_type": "markdown",
      "metadata": {
        "id": "27af6d9e"
      },
      "source": [
        "### **Avaliação do Modelo Final**\n",
        "Agora que encontramos os melhores hiperparâmetros, vamos treinar os modelos Ridge e Lasso com esses valores e avaliar seu desempenho nos dados de teste."
      ]
    },
    {
      "cell_type": "code",
      "metadata": {
        "id": "c9a5f29e"
      },
      "source": [
        "# -- Treinando os modelos com os melhores hiperparâmetros --\n",
        "# Modelo Ridge com o melhor alpha\n",
        "pipeline_ridge_best = Pipeline([\n",
        "    ('scaler', StandardScaler()),\n",
        "    ('regressor', Ridge(alpha=grid_search_ridge.best_params_['regressor__alpha']))\n",
        "])\n",
        "pipeline_ridge_best.fit(X_train, y_train)\n",
        "\n",
        "# Modelo Lasso com o melhor alpha\n",
        "pipeline_lasso_best = Pipeline([\n",
        "    ('scaler', StandardScaler()),\n",
        "    ('regressor', Lasso(alpha=grid_search_lasso.best_params_['regressor__alpha']))\n",
        "])\n",
        "pipeline_lasso_best.fit(X_train, y_train)\n",
        "\n",
        "# -- Avaliação dos Modelos com os Melhores Hiperparâmetros --\n",
        "# Fazendo previsões com os modelos otimizados\n",
        "y_pred_ridge_best = pipeline_ridge_best.predict(X_test)\n",
        "y_pred_lasso_best = pipeline_lasso_best.predict(X_test)\n",
        "\n",
        "# Calculando as métricas de avaliação para os modelos otimizados\n",
        "mse_ridge_best = mean_squared_error(y_test, y_pred_ridge_best)\n",
        "r2_ridge_best = r2_score(y_test, y_pred_ridge_best)\n",
        "\n",
        "mse_lasso_best = mean_squared_error(y_test, y_pred_lasso_best)\n",
        "r2_lasso_best = r2_score(y_test, y_pred_lasso_best)\n",
        "\n",
        "# Imprimindo os resultados\n",
        "print(\"Resultados da Regressão Ridge Otimizada:\")\n",
        "print(f\"MSE: {mse_ridge_best:.2f}\")\n",
        "print(f\"R²: {r2_ridge_best:.2f}\\n\")\n",
        "\n",
        "print(\"Resultados da Regressão Lasso Otimizada:\")\n",
        "print(f\"MSE: {mse_lasso_best:.2f}\")\n",
        "print(f\"R²: {r2_lasso_best:.2f}\")"
      ],
      "execution_count": null,
      "outputs": []
    },
    {
      "cell_type": "markdown",
      "metadata": {
        "id": "40206af7"
      },
      "source": [
        "### **Visualização dos Resultados**\n",
        "Agora, vamos visualizar a linha de regressão dos modelos em relação aos dados de treino e teste."
      ]
    },
    {
      "cell_type": "code",
      "metadata": {
        "id": "1ec91b98"
      },
      "source": [
        "import matplotlib.pyplot as plt\n",
        "\n",
        "plt.figure(figsize=(10, 6))\n",
        "\n",
        "# Plotando os dados de treino\n",
        "plt.scatter(X_train, y_train, color='blue', label='Dados de Treino')\n",
        "\n",
        "# Plotando os dados de teste\n",
        "plt.scatter(X_test, y_test, color='green', label='Dados de Teste')\n",
        "\n",
        "# Plotando a linha de regressão do modelo de Regressão Linear\n",
        "plt.plot(X_test, y_pred_linear, color='red', linewidth=2, label='Regressão Linear')\n",
        "\n",
        "# Plotando a linha de regressão do modelo Ridge Otimizado\n",
        "plt.plot(X_test, y_pred_ridge_best, color='orange', linewidth=2, linestyle='--', label='Regressão Ridge Otimizada')\n",
        "\n",
        "# Plotando a linha de regressão do modelo Lasso Otimizado\n",
        "plt.plot(X_test, y_pred_lasso_best, color='purple', linewidth=2, linestyle='-.', label='Regressão Lasso Otimizada')\n",
        "\n",
        "plt.title('Salário vs. Anos de Experiência')\n",
        "plt.xlabel('Anos de Experiência')\n",
        "plt.ylabel('Salário')\n",
        "plt.legend()\n",
        "plt.show()"
      ],
      "execution_count": null,
      "outputs": []
    },
    {
      "cell_type": "markdown",
      "metadata": {
        "id": "ed0ee418"
      },
      "source": [
        "### **Implantação do Modelo**\n",
        "Agora que temos nosso modelo final, vamos salvá-lo para que possa ser carregado e usado no futuro sem a necessidade de retreinamento. Usaremos a biblioteca `joblib` para isso."
      ]
    },
    {
      "cell_type": "code",
      "metadata": {
        "id": "4a1960ab"
      },
      "source": [
        "import joblib\n",
        "\n",
        "# Salvando o modelo de Regressão Linear\n",
        "joblib.dump(pipeline_regressao_linear, 'modelo_regressao_linear.pkl')\n",
        "\n",
        "print(\"Modelo salvo com sucesso!\")"
      ],
      "execution_count": null,
      "outputs": []
    },
    {
      "cell_type": "markdown",
      "metadata": {
        "id": "13f54815"
      },
      "source": [
        "### **Carregando e Usando o Modelo Salvo**\n",
        "Agora, vamos carregar o modelo que acabamos de salvar e usá-lo para fazer uma previsão."
      ]
    },
    {
      "cell_type": "code",
      "metadata": {
        "id": "3a3ffb80"
      },
      "source": [
        "# Carregando o modelo\n",
        "modelo_carregado = joblib.load('modelo_regressao_linear.pkl')\n",
        "\n",
        "# Criando um novo dado para previsão (ex: 5 anos de experiência)\n",
        "novo_dado = pd.DataFrame({'Xp': [5]})\n",
        "\n",
        "# Fazendo a previsão com o modelo carregado\n",
        "previsao = modelo_carregado.predict(novo_dado)\n",
        "\n",
        "print(f\"A previsão de salário para {novo_dado['Xp'].iloc[0]} anos de experiência é de: R$ {previsao[0]:.2f}\")"
      ],
      "execution_count": null,
      "outputs": []
    },
    {
      "cell_type": "markdown",
      "metadata": {
        "id": "cf6395b6"
      },
      "source": [
        "### **Interface de Demonstração**\n",
        "Vamos criar uma interface interativa para que os usuários possam inserir os anos de experiência e obter uma previsão de salário em tempo real."
      ]
    },
    {
      "cell_type": "code",
      "metadata": {
        "id": "4f06ccc0"
      },
      "source": [
        "import ipywidgets as widgets\n",
        "from IPython.display import display\n",
        "\n",
        "# Carregando o modelo\n",
        "modelo_carregado = joblib.load('modelo_regressao_linear.pkl')\n",
        "\n",
        "# Criando os widgets da interface\n",
        "input_anos_experiencia = widgets.FloatText(\n",
        "    value=5,\n",
        "    description='Anos de Experiência:',\n",
        "    disabled=False\n",
        ")\n",
        "\n",
        "output_previsao_salario = widgets.Output()\n",
        "\n",
        "# Função para fazer a previsão\n",
        "def prever_salario(change):\n",
        "    with output_previsao_salario:\n",
        "        output_previsao_salario.clear_output()\n",
        "        novo_dado = pd.DataFrame({'Xp': [change.new]})\n",
        "        previsao = modelo_carregado.predict(novo_dado)\n",
        "        print(f\"Previsão de Salário: R$ {previsao[0]:.2f}\")\n",
        "\n",
        "# Observando mudanças no input\n",
        "input_anos_experiencia.observe(prever_salario, names='value')\n",
        "\n",
        "# Exibindo os widgets\n",
        "display(input_anos_experiencia, output_previsao_salario)"
      ],
      "execution_count": null,
      "outputs": []
    },
    {
      "cell_type": "markdown",
      "metadata": {
        "id": "69445cd7"
      },
      "source": [
        "### **Análise de Correlação e Distribuição**\n",
        "\n",
        "Vamos analisar a correlação entre as variáveis e a distribuição de cada uma delas."
      ]
    },
    {
      "cell_type": "code",
      "metadata": {
        "id": "f9e73961"
      },
      "source": [
        "import seaborn as sns\n",
        "import matplotlib.pyplot as plt\n",
        "\n",
        "# Criando um gráfico que combina o scatter plot com a linha de regressão\n",
        "sns.jointplot(x='Xp', y='Renda', data=Base_Dados, kind='reg')\n",
        "plt.suptitle('Correlação entre Anos de Experiência e Renda', y=1.02)\n",
        "plt.show()"
      ],
      "execution_count": null,
      "outputs": []
    },
    {
      "cell_type": "markdown",
      "metadata": {
        "id": "6d2d8ad3"
      },
      "source": [
        "### **Análise da Distribuição dos Dados**\n",
        "\n",
        "Agora, vamos analisar a distribuição dos dados de salário e experiência."
      ]
    },
    {
      "cell_type": "code",
      "metadata": {
        "id": "98da38c7"
      },
      "source": [
        "# Criando um pairplot para visualizar a distribuição dos dados\n",
        "sns.pairplot(Base_Dados)\n",
        "plt.suptitle('Distribuição dos Dados', y=1.02)\n",
        "plt.show()"
      ],
      "execution_count": null,
      "outputs": []
    },
    {
      "cell_type": "code",
      "metadata": {
        "id": "26d247ba"
      },
      "source": [
        "%%writefile requirements.txt\n",
        "pandas\n",
        "numpy\n",
        "scikit-learn\n",
        "matplotlib\n",
        "seaborn\n",
        "ipywidgets\n",
        "joblib"
      ],
      "execution_count": null,
      "outputs": []
    },
    {
      "cell_type": "code",
      "metadata": {
        "id": "9fdac2ce"
      },
      "source": [
        "%%writefile README.md\n",
        "# Projeto de Previsão de Salário com Machine Learning\n",
        "\n",
        "Este projeto utiliza um modelo de machine learning para prever o salário de um profissional com base em seus anos de experiência.\n",
        "\n",
        "## Como usar\n",
        "\n",
        "1. Clone este repositório.\n",
        "2. Instale as dependências listadas no arquivo `requirements.txt`:"
      ],
      "execution_count": null,
      "outputs": []
    },
    {
      "cell_type": "markdown",
      "metadata": {
        "id": "5936219b"
      },
      "source": [
        "### **Conclusão**\n",
        "\n",
        "Neste projeto, desenvolvi um modelo de machine learning para prever o salário de um profissional com base em seus anos de experiência. O projeto seguiu um fluxo de trabalho completo de ciência de dados, desde a análise exploratória dos dados até a implantação de um modelo preditivo.\n",
        "\n",
        "**Principais Etapas e Resultados:**\n",
        "\n",
        "1.  **Análise Exploratória dos Dados:** A análise inicial que realizei revelou uma forte correlação positiva entre os anos de experiência e o salário, indicando que a regressão linear seria um bom ponto de partida.\n",
        "\n",
        "2.  **Pré-processamento e Modelagem:** Utilizei um `pipeline` para padronizar os dados e treinar os modelos de Regressão Linear, Ridge e Lasso. A utilização de um pipeline garante um fluxo de trabalho organizado e robusto.\n",
        "\n",
        "3.  **Comparação e Avaliação de Modelos:** Comparei o desempenho dos três modelos e descobri que todos apresentaram resultados muito semelhantes, com um R² de aproximadamente 0.90, o que indica que os modelos explicam 90% da variância nos dados de salário.\n",
        "\n",
        "4.  **Ajuste de Hiperparâmetros:** Realizei o ajuste de hiperparâmetros para os modelos Ridge e Lasso usando `GridSearchCV`. Embora não tenha havido uma melhoria significativa no desempenho, a demonstração dessa técnica é uma habilidade valiosa.\n",
        "\n",
        "5.  **Implantação e Demonstração:** O modelo de Regressão Linear, que apresentou o melhor desempenho (ainda que por uma margem mínima), foi salvo e carregado para uso em previsões futuras. Além disso, criei uma interface interativa que permite aos usuários fazer previsões de salário em tempo real.\n",
        "\n",
        "**Considerações Finais:**\n",
        "\n",
        "Este projeto demonstra a aplicação de ponta a ponta de técnicas de machine learning para resolver um problema de regressão. As habilidades que demonstrei aqui, como a criação de pipelines, a comparação de modelos, o ajuste de hiperparâmetros e a implantação de modelos, são fundamentais para um cientista de dados. O modelo que desenvolvi pode ser uma ferramenta útil para profissionais de RH e para indivíduos que desejam ter uma ideia de sua faixa salarial com base em sua experiência."
      ]
    }
  ]
}